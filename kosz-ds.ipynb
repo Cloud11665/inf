{
 "cells": [
  {
   "cell_type": "code",
   "execution_count": 14,
   "metadata": {},
   "outputs": [],
   "source": [
    "import numpy as np\n",
    "import pandas as pd\n",
    "from datetime import datetime"
   ]
  },
  {
   "cell_type": "code",
   "execution_count": 15,
   "metadata": {},
   "outputs": [
    {
     "data": {
      "text/html": "<div>\n<style scoped>\n    .dataframe tbody tr th:only-of-type {\n        vertical-align: middle;\n    }\n\n    .dataframe tbody tr th {\n        vertical-align: top;\n    }\n\n    .dataframe thead th {\n        text-align: right;\n    }\n</style>\n<table border=\"1\" class=\"dataframe\">\n  <thead>\n    <tr style=\"text-align: right;\">\n      <th></th>\n      <th>nr</th>\n      <th>data</th>\n      <th>rozpoczecie</th>\n      <th>zakonczenie</th>\n      <th>len</th>\n    </tr>\n  </thead>\n  <tbody>\n    <tr>\n      <th>0</th>\n      <td>3539762</td>\n      <td>3-07-2017</td>\n      <td>08:04:54</td>\n      <td>08:21:26</td>\n      <td>17.0</td>\n    </tr>\n    <tr>\n      <th>1</th>\n      <td>4546455</td>\n      <td>3-07-2017</td>\n      <td>08:10:08</td>\n      <td>08:23:46</td>\n      <td>14.0</td>\n    </tr>\n    <tr>\n      <th>2</th>\n      <td>4546455</td>\n      <td>3-07-2017</td>\n      <td>08:10:13</td>\n      <td>08:24:40</td>\n      <td>15.0</td>\n    </tr>\n    <tr>\n      <th>3</th>\n      <td>6900303</td>\n      <td>3-07-2017</td>\n      <td>08:14:49</td>\n      <td>08:21:33</td>\n      <td>7.0</td>\n    </tr>\n    <tr>\n      <th>4</th>\n      <td>4250194</td>\n      <td>3-07-2017</td>\n      <td>08:15:21</td>\n      <td>08:22:10</td>\n      <td>7.0</td>\n    </tr>\n    <tr>\n      <th>...</th>\n      <td>...</td>\n      <td>...</td>\n      <td>...</td>\n      <td>...</td>\n      <td>...</td>\n    </tr>\n    <tr>\n      <th>2143</th>\n      <td>4045129075</td>\n      <td>31-07-2017</td>\n      <td>14:43:08</td>\n      <td>14:50:20</td>\n      <td>8.0</td>\n    </tr>\n    <tr>\n      <th>2144</th>\n      <td>96736796</td>\n      <td>31-07-2017</td>\n      <td>14:45:57</td>\n      <td>14:59:02</td>\n      <td>14.0</td>\n    </tr>\n    <tr>\n      <th>2145</th>\n      <td>1035023</td>\n      <td>31-07-2017</td>\n      <td>14:50:14</td>\n      <td>15:02:58</td>\n      <td>13.0</td>\n    </tr>\n    <tr>\n      <th>2146</th>\n      <td>9941776</td>\n      <td>31-07-2017</td>\n      <td>14:57:07</td>\n      <td>14:57:17</td>\n      <td>1.0</td>\n    </tr>\n    <tr>\n      <th>2147</th>\n      <td>6401011</td>\n      <td>31-07-2017</td>\n      <td>15:02:47</td>\n      <td>15:04:52</td>\n      <td>3.0</td>\n    </tr>\n  </tbody>\n</table>\n<p>2148 rows × 5 columns</p>\n</div>",
      "text/plain": "              nr        data rozpoczecie zakonczenie   len\n0        3539762   3-07-2017    08:04:54    08:21:26  17.0\n1        4546455   3-07-2017    08:10:08    08:23:46  14.0\n2        4546455   3-07-2017    08:10:13    08:24:40  15.0\n3        6900303   3-07-2017    08:14:49    08:21:33   7.0\n4        4250194   3-07-2017    08:15:21    08:22:10   7.0\n...          ...         ...         ...         ...   ...\n2143  4045129075  31-07-2017    14:43:08    14:50:20   8.0\n2144    96736796  31-07-2017    14:45:57    14:59:02  14.0\n2145     1035023  31-07-2017    14:50:14    15:02:58  13.0\n2146     9941776  31-07-2017    14:57:07    14:57:17   1.0\n2147     6401011  31-07-2017    15:02:47    15:04:52   3.0\n\n[2148 rows x 5 columns]"
     },
     "execution_count": 15,
     "metadata": {},
     "output_type": "execute_result"
    }
   ],
   "source": [
    "df = pd.read_csv(\"telefony.txt\", sep=\" \")\n",
    "todt = lambda x:datetime.strptime(x, \"%H:%M:%S\")\n",
    "df[\"nr\"] = df[\"nr\"].astype(str)\n",
    "df[\"len\"] = df[\"zakonczenie\"].apply(todt) - df[\"rozpoczecie\"].apply(todt)\n",
    "df[\"len\"] = df[\"len\"].apply(lambda x:max(ceil(x.seconds/60),1))\n",
    "df"
   ]
  },
  {
   "cell_type": "code",
   "execution_count": 16,
   "metadata": {},
   "outputs": [
    {
     "data": {
      "text/plain": "4546455    8\n3505978    7\n4657345    6\nName: nr, dtype: int64"
     },
     "execution_count": 16,
     "metadata": {},
     "output_type": "execute_result"
    }
   ],
   "source": [
    "# 5.1\n",
    "pd.value_counts(df.nr).head(3)"
   ]
  },
  {
   "cell_type": "code",
   "execution_count": 17,
   "metadata": {},
   "outputs": [
    {
     "data": {
      "text/plain": "<AxesSubplot:title={'center':'telefony stacjonarne'}>"
     },
     "execution_count": 17,
     "metadata": {},
     "output_type": "execute_result"
    },
    {
     "data": {
      "image/png": "[encoded data removed]",
      "text/plain": "<Figure size 432x288 with 1 Axes>"
     },
     "metadata": {
      "needs_background": "light"
     },
     "output_type": "display_data"
    }
   ],
   "source": [
    "# 5.2\n",
    "mask1 = (df[\"nr\"].str.len() == 7)\n",
    "counts1 = pd.value_counts(df.loc[mask1][\"data\"])\n",
    "counts1.plot.bar(title=\"telefony stacjonarne\", grid=True)"
   ]
  },
  {
   "cell_type": "code",
   "execution_count": 18,
   "metadata": {},
   "outputs": [
    {
     "data": {
      "text/plain": "<AxesSubplot:title={'center':'telefony komorkowe'}>"
     },
     "execution_count": 18,
     "metadata": {},
     "output_type": "execute_result"
    },
    {
     "data": {
      "image/png": "[encoded data removed]",
      "text/plain": "<Figure size 432x288 with 1 Axes>"
     },
     "metadata": {
      "needs_background": "light"
     },
     "output_type": "display_data"
    }
   ],
   "source": [
    "mask2 = (df[\"nr\"].str.len() == 8)\n",
    "counts2 = pd.value_counts(df.loc[mask2][\"data\"])\n",
    "counts2.plot.bar(title=\"telefony komorkowe\", grid=True)"
   ]
  },
  {
   "cell_type": "code",
   "execution_count": 20,
   "metadata": {},
   "outputs": [
    {
     "name": "stdout",
     "output_type": "stream",
     "text": [
      "liczba polaczen      21.0\n",
      "laczny czas trwania  203.0\n"
     ]
    }
   ],
   "source": [
    "# 5.3\n",
    "mask1 = (df[\"nr\"].str.len() == 7)\n",
    "mask2 = (df[\"nr\"].str.startswith(\"12\"))\n",
    "stac = df.loc[mask1].loc[mask2]\n",
    "\n",
    "print(\"liczba polaczen     \", len(stac)*1.)\n",
    "print(\"laczny czas trwania \", stac[\"len\"].sum())"
   ]
  },
  {
   "cell_type": "code",
   "execution_count": 21,
   "metadata": {},
   "outputs": [
    {
     "name": "stdout",
     "output_type": "stream",
     "text": [
      "stacjonarne   65550.0\n",
      "komorkowe     21400.0\n",
      "zagraniczne   967.0\n"
     ]
    }
   ],
   "source": [
    "# 5.4\n",
    "pricefuncN = lambda x: 50. if x<800 else ceil((x-800)/100)*1.\n",
    "pricefuncR = lambda x: x\n",
    "\n",
    "print(\"stacjonarne  \", df.loc[(df[\"nr\"].str.len() == 7)].groupby(\"nr\").sum().sort_values(by=\"len\")[\"len\"].apply(pricefuncN).sum())\n",
    "print(\"komorkowe    \", df.loc[(df[\"nr\"].str.len() == 8)].groupby(\"nr\").sum().sort_values(by=\"len\")[\"len\"].apply(pricefuncN).sum())\n",
    "print(\"zagraniczne  \", df.loc[(df[\"nr\"].str.len() >  9)].groupby(\"nr\").sum().sort_values(by=\"len\")[\"len\"].apply(pricefuncR).sum())"
   ]
  }
 ],
 "metadata": {
  "interpreter": {
   "hash": "916dbcbb3f70747c44a77c7bcd40155683ae19c65e1c03b4aa3499c5328201f1"
  },
  "kernelspec": {
   "display_name": "Python 3.8.6 64-bit",
   "name": "python3"
  },
  "language_info": {
   "codemirror_mode": {
    "name": "ipython",
    "version": 3
   },
   "file_extension": ".py",
   "mimetype": "text/x-python",
   "name": "python",
   "nbconvert_exporter": "python",
   "pygments_lexer": "ipython3",
   "version": "3.8.6"
  }
 },
 "nbformat": 4,
 "nbformat_minor": 4
}